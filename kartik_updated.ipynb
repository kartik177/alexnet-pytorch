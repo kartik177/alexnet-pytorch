{
  "nbformat": 4,
  "nbformat_minor": 0,
  "metadata": {
    "kernelspec": {
      "display_name": "Python 3",
      "language": "python",
      "name": "python3"
    },
    "language_info": {
      "codemirror_mode": {
        "name": "ipython",
        "version": 3
      },
      "file_extension": ".py",
      "mimetype": "text/x-python",
      "name": "python",
      "nbconvert_exporter": "python",
      "pygments_lexer": "ipython3",
      "version": "3.7.6"
    },
    "colab": {
      "name": "kartik updated.ipynb",
      "provenance": [],
      "include_colab_link": true
    }
  },
  "cells": [
    {
      "cell_type": "markdown",
      "metadata": {
        "id": "view-in-github",
        "colab_type": "text"
      },
      "source": [
        "<a href=\"https://colab.research.google.com/github/kartik177/alexnet-pytorch/blob/master/kartik_updated.ipynb\" target=\"_parent\"><img src=\"https://colab.research.google.com/assets/colab-badge.svg\" alt=\"Open In Colab\"/></a>"
      ]
    },
    {
      "cell_type": "code",
      "metadata": {
        "id": "Qr_qI43H5D2H"
      },
      "source": [
        "import numpy as np\n",
        "import matplotlib.pyplot as plt\n",
        "import math\n",
        "import random\n",
        "from sklearn import datasets"
      ],
      "execution_count": 1,
      "outputs": []
    },
    {
      "cell_type": "code",
      "metadata": {
        "id": "sJZrGErS5D2P"
      },
      "source": [
        "class Neural_Network():\n",
        "    def __init__(self, neurons, Activations): \n",
        "        # arguments: an array \"neurons\" consist of number of neurons for each layer, \n",
        "        # an array \"activations\" consisting of activation functions used for the hidden layers and output layer\n",
        "        self.inputSize = neurons[0] # Number of neurons in input layer\n",
        "        self.outputSize = neurons[-1] # Number of neurons in output layer\n",
        "        self.layers = len(neurons)\n",
        "        self.weights = [] #weights for each layer\n",
        "        self.biases = [] #biases in each layer \n",
        "        self.layer_activations = [] #activations in each layer\n",
        "        for i in range(len(neurons)-1): \n",
        "            self.weights.append(np.random.rand(neurons[i+1],neurons[i])) #weight matrix between layer i and layer i+1\n",
        "            self.biases.append(np.random.rand(neurons[i+1],1))\n",
        "            self.layer_activations.append(Activations[i]) #activations for each layer\n",
        "        \n",
        "            \n",
        "    def sigmoid(self, z): # sigmoid activation function\n",
        "        #Fill in the details to compute and return the sigmoid activation function \n",
        "        return (1.0/(1.0+np.exp(-z)))\n",
        "      \n",
        "    \n",
        "    def sigmoidPrime(self,z): # derivative of sigmoid activation function\n",
        "        #Fill in the details to compute and return the derivative of sigmoid activation function\n",
        "        #print(type(z))\n",
        "        return self.sigmoid(z)*(1-self.sigmoid(z))\n",
        "\n",
        "                          \n",
        "    def tanh(self, z): # hyperbolic tan activation function\n",
        "        #Fill in the details to compute and return the tanh activation function    \n",
        "        c = (np.exp(z)- np.exp(-z))/(np.exp(z)+np.exp(-z))\n",
        "        return c\n",
        "    \n",
        "    def tanhPrime(self,x): # derivative of hyperbolic tan activation function\n",
        "        #Fill in the details to compute and return the derivative of tanh activation function\n",
        "        return (1 - (self.tanh(x))**2)\n",
        "                          \n",
        "    def linear(self, z): # Linear activation function\n",
        "        #Fill in the details to compute and return the linear activation function \n",
        "        return z\n",
        "    \n",
        "    def linearPrime(self,x): # derivative of linear activation function\n",
        "        #Fill in the details to compute and return the derivative of activation function    \n",
        "        for y in x:\n",
        "            y = 1\n",
        "        return x\n",
        "\n",
        "    def ReLU(self,z): # ReLU activation function\n",
        "        #Fill in the details to compute and return the ReLU activation function  \n",
        "        \n",
        "        for y in z:\n",
        "            if y<0:\n",
        "                y=0\n",
        "        \n",
        "        return z\n",
        "    \n",
        "    def ReLUPrime(self,z): # derivative of ReLU activation function\n",
        "        #Fill in the details to compute and return the derivative of ReLU activation function\n",
        "        v = []\n",
        "        for y in z:\n",
        "            if y > 0 :\n",
        "                v.append([1])\n",
        "            else:\n",
        "                v.append([0])\n",
        "        f = np.array(v)\n",
        "        \n",
        "        return f\n",
        "    \n",
        "    def forward(self, a): # function of forward pass which will receive input and give the output of final layer\n",
        "        # Write the forward pass using the weights and biases to find the predicted value and return them.\n",
        "        layer_activations_a = [a] #store the input as the input layer activations\n",
        "        layer_dot_prod_z = []\n",
        "        for i, param in enumerate(zip(self.biases, self.weights)):\n",
        "            b, w = param[0], param[1]\n",
        "            \n",
        "            if self.layer_activations[i].lower()=='sigmoid':\n",
        "                z = np.dot(w, a)+b\n",
        "                a = self.sigmoid(z)\n",
        "            elif self.layer_activations[i].lower()=='relu':\n",
        "                z = np.dot(w, a)+b\n",
        "                a = self.ReLU(z)\n",
        "            elif self.layer_activations[i].lower()=='tanh':   \n",
        "                z = np.dot(w, a)+b\n",
        "                a = self.tanh(z)\n",
        "            elif self.layer_activations[i].lower()=='linear':\n",
        "                z = np.dot(w, a)+b\n",
        "                a = self.linear(z) \n",
        "           \n",
        "            layer_dot_prod_z.append(z)    \n",
        "            layer_activations_a.append(a)\n",
        "            \n",
        "        return a, layer_dot_prod_z, layer_activations_a\n",
        "                          \n",
        "            \n",
        "    \n",
        "    def backward(self, x, y, zs, activations): # find the loss and return derivative of loss w.r.t every parameter\n",
        "        # Write the backpropagation algorithm here to find the gradients of weights and biases and return them.\n",
        "        grad_b = [np.zeros(b.shape) for b in self.biases]\n",
        "        grad_w = [np.zeros(w.shape) for w in self.weights]\n",
        "        # b, w 3*1\n",
        "        # backward pass\n",
        "        if self.layer_activations[-1].lower()=='sigmoid':\n",
        "            delta = (activations[-1] - y) *  self.sigmoidPrime(zs[-1])\n",
        "        elif self.layer_activations[-1].lower()=='relu':\n",
        "            delta = (activations[-1] - y) *  self.ReLUPrime(zs[-1])\n",
        "        elif self.layer_activations[-1].lower()=='tanh':   \n",
        "            delta = (activations[-1] - y) *  self.tanhPrime(zs[-1])\n",
        "\n",
        "        elif self.layer_activations[-1].lower()=='linear':\n",
        "            delta = (activations[-1] - y) *  self.linearPrime(zs[-1])        \n",
        "        \n",
        "        \n",
        "        \n",
        "    \n",
        "        # fill in the appropriate details for gradients of w and b\n",
        "        \n",
        "        grad_b[-1] = delta\n",
        "        \n",
        "        grad_w[-1] = delta*(activations[-2].transpose())\n",
        "        delta = np.matmul(((self.weights[-1]).transpose()) ,delta)\n",
        "        \n",
        "        for l in range(2, self.layers): # Here l is in backward sense i.e. last l th layer\n",
        "            z = zs[-l]\n",
        "            \n",
        "            if self.layer_activations[-l].lower()=='sigmoid':\n",
        "                prime = self.sigmoidPrime(z)\n",
        "            elif self.layer_activations[-l].lower()=='relu':\n",
        "                \n",
        "                prime = self.ReLUPrime(z)\n",
        "            elif self.layer_activations[-l].lower()=='tanh':   \n",
        "                prime = self.tanhPrime(z)\n",
        "            elif self.layer_activations[-l].lower()=='linear':\n",
        "                prime = self.linearPrime(z)\n",
        "               \n",
        "        \n",
        "            p = np.array(prime[:,0])\n",
        "            #Compute delta, gradients of b and w \n",
        "            \n",
        "           \n",
        "            k =np.matmul((self.weights[-l].transpose()),np.diag(p))\n",
        "            grad_b[-l] = delta\n",
        "            grad_w[-l] = np.matmul((np.diag(p)),delta)\n",
        "            grad_w[-l] = np.matmul(grad_w[-l],(activations[-l-1].transpose()))\n",
        "            delta = np.matmul(k,delta)\n",
        "        \n",
        "        return (grad_b, grad_w)                 \n",
        "\n",
        "    def update_parameters(self, grads, learning_rate): # update the parameters using the gradients\n",
        "        # update weights and biases using the gradients and the learning rate\n",
        "        \n",
        "        grad_b, grad_w = grads[0], grads[1]  \n",
        "       \n",
        "    \n",
        "       \n",
        "        #Implement the update rule for weights  and biases\n",
        "        self.weights = self.weights - np.multiply(learning_rate,grad_w)\n",
        "        self.biases = self.biases - np.multiply(learning_rate,grad_b)\n",
        "        \n",
        "    def loss(self, predicted, actual):\n",
        "        #Implement the loss function\n",
        "        return 0.5*(predicted-actual)**2\n",
        "    \n",
        "    def cross_entropy(self, predicted, actual):\n",
        "        CE = -actual*np.log(predicted)\n",
        "        return sum(CE)     \n",
        "    \n",
        "    \n",
        "    def train(self, X, Y, minibatch=False): # receive the full training data set\n",
        "        \n",
        "        lr = 0.001  # learning rate\n",
        "        epochs = 1000  # number of epochs\n",
        "        loss_list = []\n",
        "        CE_loss_list = []\n",
        "        if minibatch==False:\n",
        "            for e in range(epochs): \n",
        "                losses = []\n",
        "                CE_losses = []\n",
        "                for q in range(len(X)):\n",
        "                    \n",
        "                    train_x = np.resize(X[q],(X[q].shape[0],1)) \n",
        "                    if onehotencoded: \n",
        "                        train_y = np.resize(np.argmax(Y[q]),(1,1)) \n",
        "                    else:\n",
        "                        train_y = np.resize(Y[q],(1,1))\n",
        "                   \n",
        "                    \n",
        "                    out, dot_prod_z, activations_a = self.forward(train_x)\n",
        "                    \n",
        "                    loss = self.loss(out, train_y)\n",
        "                    \n",
        "                    CE_loss = self.cross_entropy(out,train_y)\n",
        "                    grads = self.backward(train_x, train_y, dot_prod_z, activations_a) # find the gradients using backward pass\n",
        "                    self.update_parameters(grads, lr)\n",
        "                 \n",
        "                    losses.append(loss)\n",
        "                    CE_losses.append(CE_loss)\n",
        "                loss_list.append(np.mean(np.array(losses)))\n",
        "                CE_loss_list.append(np.mean(np.array(CE_losses)))\n",
        "                \n",
        "                print(f'Epoch: {e} Loss: {np.mean(np.array(losses))} ')\n",
        "        else:\n",
        "            minibatchsize = 20\n",
        "            create_minibatches(X,Y,minibatchsize)\n",
        "            \n",
        "            for e in range(epochs):\n",
        "                #Complete the training code with minibatches \n",
        "                losses = []\n",
        "                CE_losses = []\n",
        "                minibatch = create_minibatches(X,Y,minibatchsize)\n",
        "                for minibatch in minibatch:\n",
        "                    x_mini,y_mini = minibatch\n",
        "                    x_train = np.resize(x_mini,(minibatchsize, x_mini.shape[1]))\n",
        "                    y_train = []\n",
        "                    for i in range(len(y_mini)):\n",
        "                        if onehotencoded:\n",
        "                            train_y = np.resize(np.argmax(y_mini[i]),(1,1)) \n",
        "                            y_train.append(train_y)\n",
        "                        else:\n",
        "                            y_train.append(y_mini[i])\n",
        "                        \n",
        "                    output, dot_prod_z ,activations_a = self.forward(x_train)\n",
        "                    \n",
        "                    loss = self.loss(output,y_train)\n",
        "                   \n",
        "                    CE_loss = self.cross_entropy(out,y_train)\n",
        "                    grads = self.backward(x_train,y_train, dot_prod_z , activations_a)\n",
        "                    self.update_parameters(grads, lr)\n",
        "                    losses.append(loss)\n",
        "                    CE_losses.append(CE_loss)\n",
        "                loss_list.append(np.mean(np.array(losses)))\n",
        "                CE_loss_list.append(np.mean(np.array(CE_losses)))\n",
        "                \n",
        "                print(f'Epoch: {e} Loss: {np.mean(np.array(losses))} ')\n",
        "        return loss_list\n",
        "        \n",
        "    def predict(self, x):\n",
        "        print (\"Input : \\n\" + str(x))\n",
        "        prediction,_,_ = self.forward(x)\n",
        "        print (\"Output: \\n\" + str(prediction))\n"
      ],
      "execution_count": null,
      "outputs": []
    },
    {
      "cell_type": "code",
      "metadata": {
        "id": "kKqunRGD5D2U"
      },
      "source": [
        "# a method for creating one hot encoded labels \n",
        "def onehotencoding(Y_data):\n",
        "    \n",
        "    Y = []\n",
        "    for i in range (0,len(Y_data),1):\n",
        "        k = [0]*10\n",
        "        k[Y_data[i]] = 1\n",
        "        Y.append(k) \n",
        "        \n",
        "    return np.array(Y)\n",
        "    \n",
        "    \n",
        "    \n",
        "\n",
        "#a method to create minibatches \n",
        "def create_minibatches(X,Y,minibatchsize):\n",
        "    numbatches = int(np.ceil(len(X)/minibatchsize))\n",
        "    idx = np.arange(len(X))\n",
        "    np.random.shuffle(idx)\n",
        "    X_minibatches = []\n",
        "    Y_minibatches = [] \n",
        "    for i in range(numbatches):\n",
        "        idx_minibatch = idx[i*minibatchsize:min(len(idx),(i+1)*minibatchsize)]\n",
        "        xn = np.take(X,idx_minibatch,axis=0) \n",
        "        yn = np.take(Y,idx_minibatch,axis=0)\n",
        "        X_minibatches.append(xn)\n",
        "        Y_minibatches.append(yn)\n",
        "    return X_minibatches, Y_minibatches\n",
        "\n",
        "def test_create_minibatches():\n",
        "    X = []\n",
        "    Y = []\n",
        "    inputsize = 3\n",
        "    minibatch = True\n",
        "    onehotencoded = False\n",
        "    n_batch = 20\n",
        "    batch_size = 20\n",
        "    for i in range(50):\n",
        "        if(i % 2 == 0):\n",
        "            X.append([np.random.randint(1,10) for i1 in range(inputsize)])\n",
        "            Y.append(1)\n",
        "        else:\n",
        "            X.append([np.random.randint(-10,1) for i1 in range(inputsize)])\n",
        "            Y.append(0)\n",
        "    X = np.array(X)\n",
        "    Y = np.array(Y)\n",
        "\n",
        "    X_mb, Y_mb = create_minibatches(X,Y,6)\n",
        "    print(X_mb, Y_mb)\n",
        "\n",
        "#test_create_minibatches()"
      ],
      "execution_count": 66,
      "outputs": []
    },
    {
      "cell_type": "markdown",
      "metadata": {
        "id": "KZtOtUNz5D2Y"
      },
      "source": [
        "# Generating some training data"
      ]
    },
    {
      "cell_type": "code",
      "metadata": {
        "id": "fEn8Kmv-5D2a"
      },
      "source": [
        "X = []\n",
        "Y = []\n",
        "inputsize = 3\n",
        "minibatch = True\n",
        "onehotencoded = False\n",
        "n_batch = 500\n",
        "batch_size = 20\n",
        "for i in range(500):\n",
        "    if(i % 2 == 0):\n",
        "        X.append([random.randint(1,10) for i1 in range(inputsize)])\n",
        "        Y.append(1)\n",
        "    else:\n",
        "        X.append([random.randint(-10,1) for i1 in range(inputsize)])\n",
        "        Y.append(0)\n",
        "X = np.array(X)\n",
        "Y = np.array(Y)\n",
        "if onehotencoded:\n",
        "    Y = onehotencoding(Y)\n",
        "\n",
        "if minibatch==False:\n",
        "    train_X = X\n",
        "    train_Y = Y\n",
        "else:\n",
        "    train_X = []\n",
        "    train_Y = []\n",
        "    for i in range(n_batch):\n",
        "        xn, yn = create_minibatches(X,Y,batch_size)\n",
        "        train_X.append(xn)\n",
        "        train_Y.append(yn)\n",
        "    train_X = np.concatenate(train_X, axis=0).reshape((n_batch,batch_size,-1))\n",
        "    train_Y = np.concatenate(train_Y, axis=0).reshape((n_batch,batch_size,-1))"
      ],
      "execution_count": 71,
      "outputs": []
    },
    {
      "cell_type": "code",
      "metadata": {
        "scrolled": true,
        "id": "LivFALhH5D2g",
        "outputId": "51d01b1c-62e2-411f-a9cd-0fbd76e1e361",
        "colab": {
          "base_uri": "https://localhost:8080/",
          "height": 52
        }
      },
      "source": [
        "#train_X = np.concatenate(train_X, axis=0).reshape((n_batch,batch_size,inputsize))\n",
        "\n",
        "\n",
        "print(train_X.shape)\n",
        "print(train_Y.shape)\n"
      ],
      "execution_count": 72,
      "outputs": [
        {
          "output_type": "stream",
          "text": [
            "(500, 20, 75)\n",
            "(500, 20, 25)\n"
          ],
          "name": "stdout"
        }
      ]
    },
    {
      "cell_type": "markdown",
      "metadata": {
        "id": "HaEY0n_X5D2n"
      },
      "source": [
        "# Defining the network"
      ]
    },
    {
      "cell_type": "code",
      "metadata": {
        "id": "5QARtQ1M5D2o"
      },
      "source": [
        "#D_in is input dimension\n",
        "#H1 is dimension of first hidden layer \n",
        "#H2 is dimension of second hidden layer\n",
        "#D_out is output dimension.\n",
        "D_in, H1, H2, H3, H4, D_out = inputsize, 10, 8,8 ,5 ,1  #You can add more layers if you wish to \n",
        "\n",
        "neurons = [D_in, H1, H2, H3, H4, D_out] # list of number of neurons in the layers sequentially.\n",
        "activation_functions = ['linear','linear','tanh','relu','sigmoid'] #activations in each layer (Note: the input layer does not have any activation)\n",
        "my_neuralnet = Neural_Network(neurons, activation_functions )\n"
      ],
      "execution_count": 73,
      "outputs": []
    },
    {
      "cell_type": "markdown",
      "metadata": {
        "id": "Ugtq0po85D2s"
      },
      "source": [
        "# Training the network"
      ]
    },
    {
      "cell_type": "code",
      "metadata": {
        "scrolled": true,
        "id": "VACb5Chg5D2v",
        "outputId": "b5fca3da-4855-434a-bf1a-65dcf492d891",
        "colab": {
          "base_uri": "https://localhost:8080/",
          "height": 308
        }
      },
      "source": [
        "\n",
        "loss  = my_neuralnet.train(train_X,train_Y,minibatch=minibatch)"
      ],
      "execution_count": 74,
      "outputs": [
        {
          "output_type": "error",
          "ename": "ValueError",
          "evalue": "ignored",
          "traceback": [
            "\u001b[0;31m---------------------------------------------------------------------------\u001b[0m",
            "\u001b[0;31mValueError\u001b[0m                                Traceback (most recent call last)",
            "\u001b[0;32m<ipython-input-74-6c3dc82cf0ac>\u001b[0m in \u001b[0;36m<module>\u001b[0;34m()\u001b[0m\n\u001b[1;32m      1\u001b[0m \u001b[0;34m\u001b[0m\u001b[0m\n\u001b[0;32m----> 2\u001b[0;31m \u001b[0mloss\u001b[0m  \u001b[0;34m=\u001b[0m \u001b[0mmy_neuralnet\u001b[0m\u001b[0;34m.\u001b[0m\u001b[0mtrain\u001b[0m\u001b[0;34m(\u001b[0m\u001b[0mtrain_X\u001b[0m\u001b[0;34m,\u001b[0m\u001b[0mtrain_Y\u001b[0m\u001b[0;34m,\u001b[0m\u001b[0mminibatch\u001b[0m\u001b[0;34m=\u001b[0m\u001b[0mminibatch\u001b[0m\u001b[0;34m)\u001b[0m\u001b[0;34m\u001b[0m\u001b[0;34m\u001b[0m\u001b[0m\n\u001b[0m",
            "\u001b[0;32m<ipython-input-40-e96ee45e8001>\u001b[0m in \u001b[0;36mtrain\u001b[0;34m(self, X, Y, minibatch)\u001b[0m\n\u001b[1;32m    208\u001b[0m                 \u001b[0mminibatch\u001b[0m \u001b[0;34m=\u001b[0m \u001b[0mcreate_minibatches\u001b[0m\u001b[0;34m(\u001b[0m\u001b[0mX\u001b[0m\u001b[0;34m,\u001b[0m\u001b[0mY\u001b[0m\u001b[0;34m,\u001b[0m\u001b[0mminibatchsize\u001b[0m\u001b[0;34m)\u001b[0m\u001b[0;34m\u001b[0m\u001b[0;34m\u001b[0m\u001b[0m\n\u001b[1;32m    209\u001b[0m                 \u001b[0;32mfor\u001b[0m \u001b[0mminibatch\u001b[0m \u001b[0;32min\u001b[0m \u001b[0mminibatch\u001b[0m\u001b[0;34m:\u001b[0m\u001b[0;34m\u001b[0m\u001b[0;34m\u001b[0m\u001b[0m\n\u001b[0;32m--> 210\u001b[0;31m                     \u001b[0mx_mini\u001b[0m\u001b[0;34m,\u001b[0m\u001b[0my_mini\u001b[0m \u001b[0;34m=\u001b[0m \u001b[0mminibatch\u001b[0m\u001b[0;34m\u001b[0m\u001b[0;34m\u001b[0m\u001b[0m\n\u001b[0m\u001b[1;32m    211\u001b[0m                     \u001b[0mx_train\u001b[0m \u001b[0;34m=\u001b[0m \u001b[0mnp\u001b[0m\u001b[0;34m.\u001b[0m\u001b[0mresize\u001b[0m\u001b[0;34m(\u001b[0m\u001b[0mx_mini\u001b[0m\u001b[0;34m,\u001b[0m\u001b[0;34m(\u001b[0m\u001b[0mminibatchsize\u001b[0m\u001b[0;34m,\u001b[0m \u001b[0mx_mini\u001b[0m\u001b[0;34m.\u001b[0m\u001b[0mshape\u001b[0m\u001b[0;34m[\u001b[0m\u001b[0;36m1\u001b[0m\u001b[0;34m]\u001b[0m\u001b[0;34m)\u001b[0m\u001b[0;34m)\u001b[0m\u001b[0;34m\u001b[0m\u001b[0;34m\u001b[0m\u001b[0m\n\u001b[1;32m    212\u001b[0m                     \u001b[0my_train\u001b[0m \u001b[0;34m=\u001b[0m \u001b[0;34m[\u001b[0m\u001b[0;34m]\u001b[0m\u001b[0;34m\u001b[0m\u001b[0;34m\u001b[0m\u001b[0m\n",
            "\u001b[0;31mValueError\u001b[0m: too many values to unpack (expected 2)"
          ]
        }
      ]
    },
    {
      "cell_type": "markdown",
      "metadata": {
        "id": "9KKApys45D21"
      },
      "source": [
        "# Prediction for a data point after the training"
      ]
    },
    {
      "cell_type": "code",
      "metadata": {
        "scrolled": true,
        "id": "nPgdBQbJ5D23",
        "outputId": "f560028c-dd1f-4623-f37c-1beabcfee378",
        "colab": {
          "base_uri": "https://localhost:8080/",
          "height": 122
        }
      },
      "source": [
        "my_neuralnet.predict(np.array([8,4,9]).reshape((3,1)))"
      ],
      "execution_count": 16,
      "outputs": [
        {
          "output_type": "stream",
          "text": [
            "Input : \n",
            "[[8]\n",
            " [4]\n",
            " [9]]\n",
            "Output: \n",
            "[[0.99998934]]\n"
          ],
          "name": "stdout"
        }
      ]
    },
    {
      "cell_type": "code",
      "metadata": {
        "id": "jEpvjj4V5D27",
        "outputId": "f2f9dd36-bda1-413d-bc9c-245e2c2e00ed",
        "colab": {
          "base_uri": "https://localhost:8080/",
          "height": 290
        }
      },
      "source": [
        "plt.plot(loss)\n",
        "\n",
        "plt.xlabel('Epochs')\n",
        "plt.ylabel('loss')\n",
        "plt.show()"
      ],
      "execution_count": 17,
      "outputs": [
        {
          "output_type": "display_data",
          "data": {
            "image/png": "[encoded data removed]",
            "text/plain": [
              "<Figure size 432x288 with 1 Axes>"
            ]
          },
          "metadata": {
            "tags": [],
            "needs_background": "light"
          }
        }
      ]
    },
    {
      "cell_type": "code",
      "metadata": {
        "id": "YE2DSN_x5D3A"
      },
      "source": [
        ""
      ],
      "execution_count": null,
      "outputs": []
    },
    {
      "cell_type": "code",
      "metadata": {
        "id": "bGf_i2fX5D3E"
      },
      "source": [
        ""
      ],
      "execution_count": null,
      "outputs": []
    }
  ]
}